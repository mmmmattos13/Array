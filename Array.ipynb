{
  "nbformat": 4,
  "nbformat_minor": 0,
  "metadata": {
    "colab": {
      "provenance": [],
      "authorship_tag": "ABX9TyOuoJv+lrVBOcgKPg9fsuig"
    },
    "kernelspec": {
      "name": "python3",
      "display_name": "Python 3"
    },
    "language_info": {
      "name": "python"
    }
  },
  "cells": [
    {
      "cell_type": "code",
      "execution_count": null,
      "metadata": {
        "id": "ofd819MoS-hi"
      },
      "outputs": [],
      "source": [
        "import numpy as np"
      ]
    },
    {
      "cell_type": "code",
      "source": [
        "l = [1, 2, 3]\n",
        "x = np.array(l)\n",
        "print(\"x: \", x)\n",
        "print(\"Shape: \", x.shape) #quantidade de elementos em cada dimensão"
      ],
      "metadata": {
        "id": "XLE1X5xcTHNw"
      },
      "execution_count": null,
      "outputs": []
    },
    {
      "cell_type": "code",
      "source": [
        "y = np.array([[1, 2], [3, 4]])\n",
        "print(\"y:\\n\", y)\n",
        "print(\"Shape: \", y.shape)"
      ],
      "metadata": {
        "id": "DNqZ2OQmTsj7"
      },
      "execution_count": null,
      "outputs": []
    },
    {
      "cell_type": "code",
      "source": [
        "np.zeros(5)\n",
        "np.zeros(4, dtype=int) #força o array a ser inteiro\n",
        "\n",
        "np.ones(2, dtype=float)"
      ],
      "metadata": {
        "colab": {
          "base_uri": "https://localhost:8080/"
        },
        "id": "o3oh3l8eULFd",
        "outputId": "03435199-4583-44ee-da7e-dd178d04c2d8"
      },
      "execution_count": null,
      "outputs": [
        {
          "output_type": "execute_result",
          "data": {
            "text/plain": [
              "array([1., 1.])"
            ]
          },
          "metadata": {},
          "execution_count": 8
        }
      ]
    },
    {
      "cell_type": "code",
      "source": [
        "#Criação de valores dentro de um intervalo \n",
        "x_min, x_max = 5, 15\n",
        "x = np.linspace(start = x_min, stop= x_max, num=6)\n",
        "print(\"x:\", x)"
      ],
      "metadata": {
        "id": "do69JrRxU91q"
      },
      "execution_count": null,
      "outputs": []
    },
    {
      "cell_type": "code",
      "source": [
        "#matriz identidade\n",
        "\n",
        "n = 4\n",
        "x = np.eye(n)\n",
        "print(\"x:\\n\", x)"
      ],
      "metadata": {
        "id": "5lM1XrTkVa2o"
      },
      "execution_count": null,
      "outputs": []
    },
    {
      "cell_type": "code",
      "source": [
        "#gera valores float aleatórios de maneira uniforme\n",
        "x = np.random.random(size=(2, 3))\n",
        "print(\"x:\\n\", x)"
      ],
      "metadata": {
        "id": "buN9Q6dEVxXH"
      },
      "execution_count": null,
      "outputs": []
    },
    {
      "cell_type": "code",
      "source": [
        "x = np.linspace(start=10, stop=100, num=10)\n",
        "print(\"x:\", x)"
      ],
      "metadata": {
        "colab": {
          "base_uri": "https://localhost:8080/"
        },
        "id": "d7Qu1kxnX0oX",
        "outputId": "cde307e0-d3cf-4741-be3e-7a24d543aff8"
      },
      "execution_count": null,
      "outputs": [
        {
          "output_type": "stream",
          "name": "stdout",
          "text": [
            "x: [ 10.  20.  30.  40.  50.  60.  70.  80.  90. 100.]\n"
          ]
        }
      ]
    },
    {
      "cell_type": "code",
      "source": [
        "#Extração de elementos\n",
        "print(\"Primeiro elemento: \", x[0])\n",
        "print(\"Último elemento: \", x[-1])"
      ],
      "metadata": {
        "colab": {
          "base_uri": "https://localhost:8080/"
        },
        "id": "73KWa943aKk9",
        "outputId": "6b813346-26f5-4b54-b449-443650d466f8"
      },
      "execution_count": null,
      "outputs": [
        {
          "output_type": "stream",
          "name": "stdout",
          "text": [
            "Primeiro elemento:  10.0\n",
            "Último elemento:  100.0\n"
          ]
        }
      ]
    },
    {
      "cell_type": "code",
      "source": [
        "#Slicing: extração de subarrays\n",
        "print(\"Dois primeiros elementos: \", x[0:2])\n",
        "print(\"Dois últimos elementos: \", x[-2:])"
      ],
      "metadata": {
        "id": "ZPF1boSPaZPH"
      },
      "execution_count": null,
      "outputs": []
    },
    {
      "cell_type": "code",
      "source": [
        "#Slicing em arrays 2D\n",
        "x = x.reshape(2, 5) #2 linhas e 5 colunas\n",
        "\n",
        "print(\"Primeira linha, segunda coluna: \", x[0,1])\n",
        "\n",
        "print(\"Primeira linha, segunda a quarta coluna: \", x[0, 1:4])\n"
      ],
      "metadata": {
        "id": "r0oVYJ6Ya9jI"
      },
      "execution_count": null,
      "outputs": []
    },
    {
      "cell_type": "code",
      "source": [
        "x = np.ones((2, 2))\n",
        "y = np.eye(2)\n",
        "print(\"x: \\n\", x)\n",
        "print(\"y: \\n\", y)"
      ],
      "metadata": {
        "id": "a35vLbdWiIiM"
      },
      "execution_count": null,
      "outputs": []
    },
    {
      "cell_type": "code",
      "source": [
        "print(\"Soma de dois arrays:\\n\", x+y)\n",
        "print(\"Soma com float/int:\\n\", x+2) #broadcasting\n",
        "\n",
        "print(\"Subtração de dois arrays:\\n\", x-y)\n",
        "print(\"Subtração com float/int:\\n\", x-2) #broadcasting\n",
        "\n",
        "print(\"Divisão de dois arrays:\\n\", x/y)\n",
        "print(\"Divisão com float/int:\\n\", x/2) #broadcasting\n",
        "\n",
        "print(\"Multiplicação de dois arrays:\\n\", x*y)\n",
        "print(\"Multiplicação com float/int:\\n\", x*2) #broadcasting"
      ],
      "metadata": {
        "id": "LJ5LiSNTiZOI"
      },
      "execution_count": null,
      "outputs": []
    },
    {
      "cell_type": "code",
      "source": [
        "#Operações matriciais \n",
        "\n",
        "print(\"Multiplicação matricial: np.dot(x,y) \\n\", np.dot(x,y))\n",
        "print(\"Multiplicação matricial: x @ y \\n\", x @ y)\n",
        "print(\"Multiplicação matricial: x.dot(y) \\n\", x.dot(y))"
      ],
      "metadata": {
        "id": "t0YSuqV4jx1g"
      },
      "execution_count": null,
      "outputs": []
    },
    {
      "cell_type": "code",
      "source": [
        "\"\"\"Exemplo\n",
        "Solução de um sistema de equações: \n",
        "  a + 2*b = 7\n",
        "  3*a - 2*b = -11\n",
        "\n",
        "  Ax = c, onde:\n",
        "    x = [a,b]\n",
        "    A = [[1, 2], [3,-2]]\n",
        "    c = [7, -11]\n",
        "\"\"\"\n",
        "A = np.array([[1,2], [3, -2]])\n",
        "c = np.array([[7], [-11]])\n",
        "print(\"A: \\n\", A)\n",
        "print(\"c: \\n\", c)\n",
        "\n",
        "\n",
        "x = np.dot(np.linalg.inv(A), c)#inverter a matriz\n",
        "print(\"(a, b)\", x.ravel())\n"
      ],
      "metadata": {
        "id": "tYiUKfR9kfXT"
      },
      "execution_count": null,
      "outputs": []
    }
  ]
}